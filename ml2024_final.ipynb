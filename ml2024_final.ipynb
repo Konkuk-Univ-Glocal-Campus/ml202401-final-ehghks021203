{
 "cells": [
  {
   "cell_type": "markdown",
   "id": "16ee6873-e999-435b-846a-c462e6a4092f",
   "metadata": {},
   "source": [
    "# **기계학습(8585) - 기말고사 대체 과제**\n",
    "\n",
    "**<div style=\"text-align: right\"> 202120990 김도환 </div>**\n",
    "\n",
    "## **제품 review 데이터의 감성 분석**\n",
    "\n",
    "### **프로젝트 개요:**\n",
    "\n",
    "학생들은 텍스트 데이터를 감성으로 분류하는 감성 분석 시스템을 개발합니다. 이 프로젝트는 전처리, 모델 선택, 학습, 평가 및 결과 시각화를 포함합니다.\n",
    "\n",
    "### **프로젝트 목표(보고서 목차):**\n",
    "\n",
    "1. **감성 분석의 기본 이해**: 감성 분석이 무엇이며 그 응용에 대해 학습\n",
    "2. **데이터 전처리**: 머신 러닝 작업을 위해 데이터 전처리하는 경험을 쌓음\n",
    "3. **모델 선택 및 학습**: 수업에서 활용한 모델을 활용해서 구현하고 그 강점과 약점을 이해\n",
    "4. **평가**: 적절한 지표를 사용하여 모델의 성능을 평가\n",
    "5. **시각화 및 해석**: 결과를 시각화하고 해석\n",
    "\n",
    "### **프로젝트 구성 요소:**\n",
    "\n",
    "1. **데이터:**\n",
    "    - `wine_review.csv` 파일을 분석합니다.\n",
    "2. **데이터 전처리:**\n",
    "    - 데이터 정리(노이즈 제거, 결측값 처리 등)\n",
    "    - 텍스트 토큰화 및 불용어 제거\n",
    "    - 텍스트 정규화(스테밍 또는 표제어 추출)\n",
    "3. **모델 구현:**\n",
    "    - 수업에서 활용한 모델을 적용\n",
    "4. **모델 학습 및 튜닝:**\n",
    "    - 데이터셋을 학습 및 테스트 세트로 분할.\n",
    "    - 모델 학습 및 하이퍼파라미터 튜닝 (예: 그리드 서치 또는 랜덤 서치 사용)\n",
    "    - 교차 검증과 같은 기술을 사용하여 견고성 보장.\n",
    "5. **모델 평가:**\n",
    "    - 정확도, 정밀도, 재현률, F1 점수 및 ROC-AUC와 같은 지표를 사용하여 모델 평가.\n",
    "    - 오버피팅과 언더피팅을 논의하고 이를 해결하는 방법 학습.\n",
    "6. **시각화 및 보고:**\n",
    "    - Matplotlib 또는 Seaborn과 같은 라이브러리를 사용하여 결과 시각화\n",
    "    - 혼동 행렬 및 ROC 곡선 생성\n",
    "    - 보고서에 결과 요약.\n",
    "    \n",
    "<br/>\n",
    "\n",
    "과제를 시작하기 전, 과제에 필요한 모듈을 다운로드 합니다."
   ]
  },
  {
   "cell_type": "code",
   "execution_count": 1,
   "id": "3077973d-855e-433d-8acf-1f8165eaa483",
   "metadata": {
    "tags": []
   },
   "outputs": [
    {
     "name": "stdout",
     "output_type": "stream",
     "text": [
      "Requirement already satisfied: pandas==1.4.4 in /usr/anaconda3/lib/python3.11/site-packages (from -r requirements.txt (line 1)) (1.4.4)\n",
      "Requirement already satisfied: numpy==1.26.4 in /usr/anaconda3/lib/python3.11/site-packages (from -r requirements.txt (line 2)) (1.26.4)\n",
      "Requirement already satisfied: matplotlib==3.7.2 in /usr/anaconda3/lib/python3.11/site-packages (from -r requirements.txt (line 3)) (3.7.2)\n",
      "Requirement already satisfied: nltk==3.8.1 in /usr/anaconda3/lib/python3.11/site-packages (from -r requirements.txt (line 4)) (3.8.1)\n",
      "Requirement already satisfied: scikit-image==0.20.0 in /usr/anaconda3/lib/python3.11/site-packages (from -r requirements.txt (line 5)) (0.20.0)\n",
      "Requirement already satisfied: scikit-learn==1.5.0 in /usr/anaconda3/lib/python3.11/site-packages (from -r requirements.txt (line 6)) (1.5.0)\n",
      "Requirement already satisfied: seaborn==0.12.2 in /usr/anaconda3/lib/python3.11/site-packages (from -r requirements.txt (line 7)) (0.12.2)\n",
      "Requirement already satisfied: python-dateutil>=2.8.1 in /usr/anaconda3/lib/python3.11/site-packages (from pandas==1.4.4->-r requirements.txt (line 1)) (2.8.2)\n",
      "Requirement already satisfied: pytz>=2020.1 in /usr/anaconda3/lib/python3.11/site-packages (from pandas==1.4.4->-r requirements.txt (line 1)) (2023.3.post1)\n",
      "Requirement already satisfied: contourpy>=1.0.1 in /usr/anaconda3/lib/python3.11/site-packages (from matplotlib==3.7.2->-r requirements.txt (line 3)) (1.0.5)\n",
      "Requirement already satisfied: cycler>=0.10 in /usr/anaconda3/lib/python3.11/site-packages (from matplotlib==3.7.2->-r requirements.txt (line 3)) (0.11.0)\n",
      "Requirement already satisfied: fonttools>=4.22.0 in /usr/anaconda3/lib/python3.11/site-packages (from matplotlib==3.7.2->-r requirements.txt (line 3)) (4.25.0)\n",
      "Requirement already satisfied: kiwisolver>=1.0.1 in /usr/anaconda3/lib/python3.11/site-packages (from matplotlib==3.7.2->-r requirements.txt (line 3)) (1.4.4)\n",
      "Requirement already satisfied: packaging>=20.0 in /usr/anaconda3/lib/python3.11/site-packages (from matplotlib==3.7.2->-r requirements.txt (line 3)) (23.2)\n",
      "Requirement already satisfied: pillow>=6.2.0 in /usr/anaconda3/lib/python3.11/site-packages (from matplotlib==3.7.2->-r requirements.txt (line 3)) (10.2.0)\n",
      "Requirement already satisfied: pyparsing<3.1,>=2.3.1 in /usr/anaconda3/lib/python3.11/site-packages (from matplotlib==3.7.2->-r requirements.txt (line 3)) (3.0.9)\n",
      "Requirement already satisfied: click in /usr/anaconda3/lib/python3.11/site-packages (from nltk==3.8.1->-r requirements.txt (line 4)) (8.1.7)\n",
      "Requirement already satisfied: joblib in /usr/anaconda3/lib/python3.11/site-packages (from nltk==3.8.1->-r requirements.txt (line 4)) (1.2.0)\n",
      "Requirement already satisfied: regex>=2021.8.3 in /usr/anaconda3/lib/python3.11/site-packages (from nltk==3.8.1->-r requirements.txt (line 4)) (2022.7.9)\n",
      "Requirement already satisfied: tqdm in /usr/anaconda3/lib/python3.11/site-packages (from nltk==3.8.1->-r requirements.txt (line 4)) (4.65.0)\n",
      "Requirement already satisfied: scipy>=1.8 in /usr/anaconda3/lib/python3.11/site-packages (from scikit-image==0.20.0->-r requirements.txt (line 5)) (1.11.1)\n",
      "Requirement already satisfied: networkx>=2.8 in /usr/anaconda3/lib/python3.11/site-packages (from scikit-image==0.20.0->-r requirements.txt (line 5)) (3.1)\n",
      "Requirement already satisfied: imageio>=2.4.1 in /usr/anaconda3/lib/python3.11/site-packages (from scikit-image==0.20.0->-r requirements.txt (line 5)) (2.31.1)\n",
      "Requirement already satisfied: tifffile>=2019.7.26 in /usr/anaconda3/lib/python3.11/site-packages (from scikit-image==0.20.0->-r requirements.txt (line 5)) (2023.4.12)\n",
      "Requirement already satisfied: PyWavelets>=1.1.1 in /usr/anaconda3/lib/python3.11/site-packages (from scikit-image==0.20.0->-r requirements.txt (line 5)) (1.4.1)\n",
      "Requirement already satisfied: lazy_loader>=0.1 in /usr/anaconda3/lib/python3.11/site-packages (from scikit-image==0.20.0->-r requirements.txt (line 5)) (0.2)\n",
      "Requirement already satisfied: threadpoolctl>=3.1.0 in /usr/anaconda3/lib/python3.11/site-packages (from scikit-learn==1.5.0->-r requirements.txt (line 6)) (3.5.0)\n",
      "Requirement already satisfied: six>=1.5 in /usr/anaconda3/lib/python3.11/site-packages (from python-dateutil>=2.8.1->pandas==1.4.4->-r requirements.txt (line 1)) (1.16.0)\n",
      "Note: you may need to restart the kernel to use updated packages.\n"
     ]
    }
   ],
   "source": [
    "%pip install -r requirements.txt"
   ]
  },
  {
   "cell_type": "code",
   "execution_count": 2,
   "id": "9c679b8d-4e8b-4507-8fab-dcabb1feec93",
   "metadata": {
    "tags": []
   },
   "outputs": [],
   "source": [
    "# 경고를 무시합니다.\n",
    "import warnings\n",
    "warnings.filterwarnings(\"ignore\")\n",
    "\n",
    "# 한글 폰트를 설정해줍니다. (폰트 깨짐 방지)\n",
    "import numpy\n",
    "import matplotlib.pyplot as plt\n",
    "import matplotlib.font_manager as fm\n",
    "font_path = \"./fonts/NanumGothic.ttf\"\n",
    "fm.fontManager.addfont(font_path)\n",
    "plt.rcParams[\"font.family\"] = \"NanumGothic\""
   ]
  },
  {
   "cell_type": "markdown",
   "id": "7ced3686-99e2-4b68-97ee-3a9b419c0ce0",
   "metadata": {},
   "source": [
    "## **1) 데이터 로드하기**\n",
    "\n",
    "---\n"
   ]
  },
  {
   "cell_type": "code",
   "execution_count": 3,
   "id": "2da537c1-3d28-4d4b-a950-521a37e13aeb",
   "metadata": {
    "tags": []
   },
   "outputs": [
    {
     "name": "stdout",
     "output_type": "stream",
     "text": [
      "전체 리뷰 개수: 2890\n",
      "\n",
      "===============   DataFrame info   ===============\n",
      "<class 'pandas.core.frame.DataFrame'>\n",
      "RangeIndex: 2890 entries, 0 to 2889\n",
      "Data columns (total 32 columns):\n",
      " #   Column                Non-Null Count  Dtype  \n",
      "---  ------                --------------  -----  \n",
      " 0   id                    2890 non-null   object \n",
      " 1   asins                 870 non-null    object \n",
      " 2   brand                 2825 non-null   object \n",
      " 3   categories            2890 non-null   object \n",
      " 4   dateAdded             2890 non-null   object \n",
      " 5   dateUpdated           2890 non-null   object \n",
      " 6   descriptions          2738 non-null   object \n",
      " 7   dimension             1838 non-null   object \n",
      " 8   ean                   2166 non-null   object \n",
      " 9   flavors               151 non-null    object \n",
      " 10  keys                  2890 non-null   object \n",
      " 11  manufacturer          849 non-null    object \n",
      " 12  manufacturerNumber    2457 non-null   object \n",
      " 13  name                  2890 non-null   object \n",
      " 14  reviews.date          2552 non-null   object \n",
      " 15  reviews.dateAdded     2890 non-null   object \n",
      " 16  reviews.dateSeen      2890 non-null   object \n",
      " 17  reviews.didPurchase   2049 non-null   object \n",
      " 18  reviews.doRecommend   1911 non-null   object \n",
      " 19  reviews.id            1885 non-null   float64\n",
      " 20  reviews.numHelpful    626 non-null    float64\n",
      " 21  reviews.rating        2445 non-null   float64\n",
      " 22  reviews.sourceURLs    2890 non-null   object \n",
      " 23  reviews.text          2889 non-null   object \n",
      " 24  reviews.title         2846 non-null   object \n",
      " 25  reviews.userCity      82 non-null     object \n",
      " 26  reviews.userProvince  9 non-null      object \n",
      " 27  reviews.username      2889 non-null   object \n",
      " 28  sizes                 22 non-null     object \n",
      " 29  sourceURLs            2890 non-null   object \n",
      " 30  upc                   2743 non-null   object \n",
      " 31  weight                996 non-null    object \n",
      "dtypes: float64(3), object(29)\n",
      "memory usage: 722.6+ KB\n",
      "None\n"
     ]
    }
   ],
   "source": [
    "import pandas as pd\n",
    "\n",
    "df = pd.read_csv(\"./wine_review.csv\")\n",
    "print(f\"전체 리뷰 개수: {len(df)}\\n\")\n",
    "print(\"===============   DataFrame info   ===============\")\n",
    "print(df.info())"
   ]
  },
  {
   "cell_type": "markdown",
   "id": "9453df77-12e9-40c4-a71f-8b559e1a5b72",
   "metadata": {},
   "source": [
    "총 2,890개의 샘플이 존재합니다. 이제 감성분석을 위해 사용할 칼럼을 선정합니다.\n",
    "\n",
    "`reviews.rating`, `reviews.text`, `reviews.title` 이 세 개의 칼럼을 주요 특성으로 사용하였습니다."
   ]
  },
  {
   "cell_type": "code",
   "execution_count": 4,
   "id": "1615fd25-45ae-4091-8efb-444e699ed294",
   "metadata": {
    "tags": []
   },
   "outputs": [
    {
     "data": {
      "text/html": [
       "<div>\n",
       "<style scoped>\n",
       "    .dataframe tbody tr th:only-of-type {\n",
       "        vertical-align: middle;\n",
       "    }\n",
       "\n",
       "    .dataframe tbody tr th {\n",
       "        vertical-align: top;\n",
       "    }\n",
       "\n",
       "    .dataframe thead th {\n",
       "        text-align: right;\n",
       "    }\n",
       "</style>\n",
       "<table border=\"1\" class=\"dataframe\">\n",
       "  <thead>\n",
       "    <tr style=\"text-align: right;\">\n",
       "      <th></th>\n",
       "      <th>reviews.rating</th>\n",
       "      <th>reviews.text</th>\n",
       "      <th>reviews.title</th>\n",
       "    </tr>\n",
       "  </thead>\n",
       "  <tbody>\n",
       "    <tr>\n",
       "      <th>0</th>\n",
       "      <td>5.0</td>\n",
       "      <td>This a fantastic white wine for any occasion!</td>\n",
       "      <td>My Favorite White Wine</td>\n",
       "    </tr>\n",
       "    <tr>\n",
       "      <th>1</th>\n",
       "      <td>5.0</td>\n",
       "      <td>Tart, not sweet...very refreshing and delicious!</td>\n",
       "      <td>Yum!!</td>\n",
       "    </tr>\n",
       "    <tr>\n",
       "      <th>2</th>\n",
       "      <td>5.0</td>\n",
       "      <td>I was given this wine so it was a delightful s...</td>\n",
       "      <td>A New Favorite!</td>\n",
       "    </tr>\n",
       "    <tr>\n",
       "      <th>3</th>\n",
       "      <td>5.0</td>\n",
       "      <td>This is a phenomenal wine and my new favorite ...</td>\n",
       "      <td>Bold, Flavorful, Aromatic, Delicious</td>\n",
       "    </tr>\n",
       "    <tr>\n",
       "      <th>4</th>\n",
       "      <td>5.0</td>\n",
       "      <td>4 750ml bottles for the price of two With way ...</td>\n",
       "      <td>Yum! Plus, Environmentally Friendly!</td>\n",
       "    </tr>\n",
       "    <tr>\n",
       "      <th>5</th>\n",
       "      <td>5.0</td>\n",
       "      <td>I LOVE Becks NA. It tastes just like a regular...</td>\n",
       "      <td>Great Taste</td>\n",
       "    </tr>\n",
       "    <tr>\n",
       "      <th>6</th>\n",
       "      <td>3.0</td>\n",
       "      <td>This wine has a wonderful but strong aroma its...</td>\n",
       "      <td>Simply Wonderful</td>\n",
       "    </tr>\n",
       "    <tr>\n",
       "      <th>7</th>\n",
       "      <td>2.0</td>\n",
       "      <td>I would give one more star if it came clean on...</td>\n",
       "      <td>A Sweet Red.</td>\n",
       "    </tr>\n",
       "    <tr>\n",
       "      <th>8</th>\n",
       "      <td>5.0</td>\n",
       "      <td>Delicious and very affordable</td>\n",
       "      <td>NaN</td>\n",
       "    </tr>\n",
       "    <tr>\n",
       "      <th>9</th>\n",
       "      <td>5.0</td>\n",
       "      <td>This is a very smooth red with Aromas of cocoa...</td>\n",
       "      <td>Charles &amp; Charles Red Blend</td>\n",
       "    </tr>\n",
       "  </tbody>\n",
       "</table>\n",
       "</div>"
      ],
      "text/plain": [
       "   reviews.rating                                       reviews.text  \\\n",
       "0             5.0      This a fantastic white wine for any occasion!   \n",
       "1             5.0   Tart, not sweet...very refreshing and delicious!   \n",
       "2             5.0  I was given this wine so it was a delightful s...   \n",
       "3             5.0  This is a phenomenal wine and my new favorite ...   \n",
       "4             5.0  4 750ml bottles for the price of two With way ...   \n",
       "5             5.0  I LOVE Becks NA. It tastes just like a regular...   \n",
       "6             3.0  This wine has a wonderful but strong aroma its...   \n",
       "7             2.0  I would give one more star if it came clean on...   \n",
       "8             5.0                      Delicious and very affordable   \n",
       "9             5.0  This is a very smooth red with Aromas of cocoa...   \n",
       "\n",
       "                          reviews.title  \n",
       "0                My Favorite White Wine  \n",
       "1                                 Yum!!  \n",
       "2                       A New Favorite!  \n",
       "3  Bold, Flavorful, Aromatic, Delicious  \n",
       "4  Yum! Plus, Environmentally Friendly!  \n",
       "5                           Great Taste  \n",
       "6                      Simply Wonderful  \n",
       "7                          A Sweet Red.  \n",
       "8                                   NaN  \n",
       "9           Charles & Charles Red Blend  "
      ]
     },
     "execution_count": 4,
     "metadata": {},
     "output_type": "execute_result"
    }
   ],
   "source": [
    "df = df[[\"reviews.rating\", \"reviews.text\", \"reviews.title\"]]\n",
    "df.head(10)"
   ]
  },
  {
   "cell_type": "markdown",
   "id": "46495f64-a773-490b-8e35-8e237558b167",
   "metadata": {},
   "source": [
    "## **2) 데이터 중복값 및 결측치 제거**\n",
    "\n",
    "---\n",
    "\n",
    "각 열에 대해서 중복을 제외한 샘플의 수를 카운트합니다."
   ]
  },
  {
   "cell_type": "code",
   "execution_count": 5,
   "id": "3f229b06-c6bc-4e2b-8f79-56c33f73d4e5",
   "metadata": {
    "tags": []
   },
   "outputs": [
    {
     "data": {
      "text/plain": [
       "(5, 2550, 2158)"
      ]
     },
     "execution_count": 5,
     "metadata": {},
     "output_type": "execute_result"
    }
   ],
   "source": [
    "df[\"reviews.rating\"].nunique(), df[\"reviews.text\"].nunique(), df[\"reviews.title\"].nunique()"
   ]
  },
  {
   "cell_type": "markdown",
   "id": "7c3624dd-dcde-4117-bb44-3a41b2401eea",
   "metadata": {},
   "source": [
    "`reviews.text`를 확인해보면 중복을 제외한 경우 2,550개의 데이터가 존재한 것을 확인할 수 있습니다.\n",
    "현재 2,890개의 데이터가 존재하므로 이는 현재 갖고 있는 데이터에 중복인 샘플이 있다는 의미입니다.\n",
    "중복된 샘플을 제거해줍니다."
   ]
  },
  {
   "cell_type": "code",
   "execution_count": 6,
   "id": "75850fcf-c349-4596-8eb0-a15d8670bb0a",
   "metadata": {
    "tags": []
   },
   "outputs": [
    {
     "name": "stdout",
     "output_type": "stream",
     "text": [
      "전체 리뷰 개수: 2551\n",
      "\n"
     ]
    }
   ],
   "source": [
    "df.drop_duplicates(subset=[\"reviews.text\"], inplace=True)\n",
    "print(f\"전체 리뷰 개수: {len(df)}\\n\")"
   ]
  },
  {
   "cell_type": "markdown",
   "id": "39b64888-6ad9-4801-9b59-d46055bb8fde",
   "metadata": {},
   "source": [
    "다음으로, NULL 값 유무를 확인합니다."
   ]
  },
  {
   "cell_type": "code",
   "execution_count": 7,
   "id": "5b29ba71-2e3c-49aa-b9a4-a578967809ed",
   "metadata": {
    "tags": []
   },
   "outputs": [
    {
     "name": "stdout",
     "output_type": "stream",
     "text": [
      "제목 결측치 개수: 41\n",
      "리뷰 결측치 개수: 1\n"
     ]
    }
   ],
   "source": [
    "print(f\"제목 결측치 개수: {df['reviews.title'].isnull().sum()}\")\n",
    "print(f\"리뷰 결측치 개수: {df['reviews.text'].isnull().sum()}\")"
   ]
  },
  {
   "cell_type": "markdown",
   "id": "84ebfb30-e003-4e86-ae45-fbd3a44c0cd2",
   "metadata": {},
   "source": [
    "제목과 리뷰 내용 데이터에 결측치가 존재함을 확인하였습니다. 리뷰 내용이 NULL인 행은 제거해주고, 제목 내용이 NULL인 행은 공백으로 채워줍니다."
   ]
  },
  {
   "cell_type": "code",
   "execution_count": 8,
   "id": "3c9f6eeb-f663-45bf-8cdf-3e91ff0d181f",
   "metadata": {
    "tags": []
   },
   "outputs": [
    {
     "data": {
      "text/html": [
       "<div>\n",
       "<style scoped>\n",
       "    .dataframe tbody tr th:only-of-type {\n",
       "        vertical-align: middle;\n",
       "    }\n",
       "\n",
       "    .dataframe tbody tr th {\n",
       "        vertical-align: top;\n",
       "    }\n",
       "\n",
       "    .dataframe thead th {\n",
       "        text-align: right;\n",
       "    }\n",
       "</style>\n",
       "<table border=\"1\" class=\"dataframe\">\n",
       "  <thead>\n",
       "    <tr style=\"text-align: right;\">\n",
       "      <th></th>\n",
       "      <th>reviews.rating</th>\n",
       "      <th>reviews.text</th>\n",
       "      <th>reviews.title</th>\n",
       "    </tr>\n",
       "  </thead>\n",
       "  <tbody>\n",
       "    <tr>\n",
       "      <th>0</th>\n",
       "      <td>5.0</td>\n",
       "      <td>This a fantastic white wine for any occasion!</td>\n",
       "      <td>My Favorite White Wine</td>\n",
       "    </tr>\n",
       "    <tr>\n",
       "      <th>1</th>\n",
       "      <td>5.0</td>\n",
       "      <td>Tart, not sweet...very refreshing and delicious!</td>\n",
       "      <td>Yum!!</td>\n",
       "    </tr>\n",
       "    <tr>\n",
       "      <th>2</th>\n",
       "      <td>5.0</td>\n",
       "      <td>I was given this wine so it was a delightful s...</td>\n",
       "      <td>A New Favorite!</td>\n",
       "    </tr>\n",
       "    <tr>\n",
       "      <th>3</th>\n",
       "      <td>5.0</td>\n",
       "      <td>This is a phenomenal wine and my new favorite ...</td>\n",
       "      <td>Bold, Flavorful, Aromatic, Delicious</td>\n",
       "    </tr>\n",
       "    <tr>\n",
       "      <th>4</th>\n",
       "      <td>5.0</td>\n",
       "      <td>4 750ml bottles for the price of two With way ...</td>\n",
       "      <td>Yum! Plus, Environmentally Friendly!</td>\n",
       "    </tr>\n",
       "    <tr>\n",
       "      <th>5</th>\n",
       "      <td>5.0</td>\n",
       "      <td>I LOVE Becks NA. It tastes just like a regular...</td>\n",
       "      <td>Great Taste</td>\n",
       "    </tr>\n",
       "    <tr>\n",
       "      <th>6</th>\n",
       "      <td>3.0</td>\n",
       "      <td>This wine has a wonderful but strong aroma its...</td>\n",
       "      <td>Simply Wonderful</td>\n",
       "    </tr>\n",
       "    <tr>\n",
       "      <th>7</th>\n",
       "      <td>2.0</td>\n",
       "      <td>I would give one more star if it came clean on...</td>\n",
       "      <td>A Sweet Red.</td>\n",
       "    </tr>\n",
       "    <tr>\n",
       "      <th>8</th>\n",
       "      <td>5.0</td>\n",
       "      <td>Delicious and very affordable</td>\n",
       "      <td></td>\n",
       "    </tr>\n",
       "    <tr>\n",
       "      <th>9</th>\n",
       "      <td>5.0</td>\n",
       "      <td>This is a very smooth red with Aromas of cocoa...</td>\n",
       "      <td>Charles &amp; Charles Red Blend</td>\n",
       "    </tr>\n",
       "  </tbody>\n",
       "</table>\n",
       "</div>"
      ],
      "text/plain": [
       "   reviews.rating                                       reviews.text  \\\n",
       "0             5.0      This a fantastic white wine for any occasion!   \n",
       "1             5.0   Tart, not sweet...very refreshing and delicious!   \n",
       "2             5.0  I was given this wine so it was a delightful s...   \n",
       "3             5.0  This is a phenomenal wine and my new favorite ...   \n",
       "4             5.0  4 750ml bottles for the price of two With way ...   \n",
       "5             5.0  I LOVE Becks NA. It tastes just like a regular...   \n",
       "6             3.0  This wine has a wonderful but strong aroma its...   \n",
       "7             2.0  I would give one more star if it came clean on...   \n",
       "8             5.0                      Delicious and very affordable   \n",
       "9             5.0  This is a very smooth red with Aromas of cocoa...   \n",
       "\n",
       "                          reviews.title  \n",
       "0                My Favorite White Wine  \n",
       "1                                 Yum!!  \n",
       "2                       A New Favorite!  \n",
       "3  Bold, Flavorful, Aromatic, Delicious  \n",
       "4  Yum! Plus, Environmentally Friendly!  \n",
       "5                           Great Taste  \n",
       "6                      Simply Wonderful  \n",
       "7                          A Sweet Red.  \n",
       "8                                        \n",
       "9           Charles & Charles Red Blend  "
      ]
     },
     "execution_count": 8,
     "metadata": {},
     "output_type": "execute_result"
    }
   ],
   "source": [
    "df = df.dropna(subset=[\"reviews.text\"])\n",
    "df[\"reviews.title\"] = df[\"reviews.title\"].fillna(\"\")\n",
    "df.head(10)"
   ]
  },
  {
   "cell_type": "markdown",
   "id": "34b4d022-2feb-4a9c-824a-f4ab056f46bf",
   "metadata": {},
   "source": [
    "현재 데이터셋에 rating 분포도를 확인합니다. rating이 골고루 분포되어 있을수록 모델 학습에 용이한 데이터셋이라고 볼 수 있습니다."
   ]
  },
  {
   "cell_type": "code",
   "execution_count": 9,
   "id": "321ee800-1290-4f4a-b723-0981c65e9c6d",
   "metadata": {
    "tags": []
   },
   "outputs": [
    {
     "data": {
      "image/png": "[encoded data removed]",
      "text/plain": [
       "<Figure size 1000x600 with 1 Axes>"
      ]
     },
     "metadata": {},
     "output_type": "display_data"
    }
   ],
   "source": [
    "import matplotlib.pyplot as plt\n",
    "\n",
    "# 데이터 분포도 시각화\n",
    "plt.figure(figsize=(10, 6))\n",
    "plt.hist(df['reviews.rating'], bins=range(1, 7), edgecolor='black', align='left')\n",
    "plt.xlabel('Rating')\n",
    "plt.ylabel('Frequency')\n",
    "plt.title('Distribution of Reviews Rating')\n",
    "plt.xticks(range(1, 6))  # Rating이 1에서 5까지인 경우\n",
    "plt.grid(axis='y')\n",
    "\n",
    "# 그래프 보여주기\n",
    "plt.show()"
   ]
  },
  {
   "cell_type": "markdown",
   "id": "2a4d6e46-45ee-46f5-b1b3-bcec73e3cf0f",
   "metadata": {},
   "source": [
    "위 그래프를 확인해보면 4~5점에 데이터가 밀집해있는 것을 알 수 있습니다.\n",
    "이는 데이터가 긍정적인 리뷰가 대다수이고 부정적인 리뷰는 매우 적다는 것을 의미하며, 부정적인 리뷰를 제대로 분류하지 못할 수 있습니다."
   ]
  },
  {
   "cell_type": "markdown",
   "id": "c91b6f80-e218-4789-a5a8-135bf8172aca",
   "metadata": {},
   "source": [
    "## **3) 텍스트 데이터 전처리**\n",
    "\n",
    "---\n",
    "\n",
    "텍스트 데이터를 전처리합니다. 전처리 과정은 크게 네 가지로 진행됩니다.\n",
    "\n",
    "1. 노이즈 제거\n",
    "    - 텍스트를 모두 소문자로 바꿔주고, 숫자 제거 및 추가 공백 제거, 특수 문자 제거를 합니다.\n",
    "2. 토큰화\n",
    "    - 텍스트를 작은 단위로 토큰화 합니다.\n",
    "3. 불용어 제거\n",
    "    - 의미 없는 단어(예: 'the', 'and' 등)를 제거하여 중요한 정보만 남깁니다.\n",
    "4. 표제어 추출\n",
    "    - 단어의 기본 형태를 찾아 변형된 단어를 통일합니다. (예: 'better' -> 'good')\n"
   ]
  },
  {
   "cell_type": "code",
   "execution_count": 10,
   "id": "a83cfe0c-2ebb-4080-9f67-2f3d4a0a4f3e",
   "metadata": {
    "tags": []
   },
   "outputs": [
    {
     "name": "stderr",
     "output_type": "stream",
     "text": [
      "[nltk_data] Downloading package punkt to\n",
      "[nltk_data]     /home/students/cs/202120990/nltk_data...\n",
      "[nltk_data]   Package punkt is already up-to-date!\n",
      "[nltk_data] Downloading package stopwords to\n",
      "[nltk_data]     /home/students/cs/202120990/nltk_data...\n",
      "[nltk_data]   Package stopwords is already up-to-date!\n",
      "[nltk_data] Downloading package wordnet to\n",
      "[nltk_data]     /home/students/cs/202120990/nltk_data...\n",
      "[nltk_data]   Package wordnet is already up-to-date!\n"
     ]
    },
    {
     "data": {
      "text/html": [
       "<div>\n",
       "<style scoped>\n",
       "    .dataframe tbody tr th:only-of-type {\n",
       "        vertical-align: middle;\n",
       "    }\n",
       "\n",
       "    .dataframe tbody tr th {\n",
       "        vertical-align: top;\n",
       "    }\n",
       "\n",
       "    .dataframe thead th {\n",
       "        text-align: right;\n",
       "    }\n",
       "</style>\n",
       "<table border=\"1\" class=\"dataframe\">\n",
       "  <thead>\n",
       "    <tr style=\"text-align: right;\">\n",
       "      <th></th>\n",
       "      <th>reviews.rating</th>\n",
       "      <th>reviews.text</th>\n",
       "      <th>reviews.title</th>\n",
       "    </tr>\n",
       "  </thead>\n",
       "  <tbody>\n",
       "    <tr>\n",
       "      <th>0</th>\n",
       "      <td>5.0</td>\n",
       "      <td>fantastic white wine occasion</td>\n",
       "      <td>favorite white wine</td>\n",
       "    </tr>\n",
       "    <tr>\n",
       "      <th>1</th>\n",
       "      <td>5.0</td>\n",
       "      <td>tart sweetvery refreshing delicious</td>\n",
       "      <td>yum</td>\n",
       "    </tr>\n",
       "    <tr>\n",
       "      <th>2</th>\n",
       "      <td>5.0</td>\n",
       "      <td>given wine delightful surprise find flavorful ...</td>\n",
       "      <td>new favorite</td>\n",
       "    </tr>\n",
       "    <tr>\n",
       "      <th>3</th>\n",
       "      <td>5.0</td>\n",
       "      <td>phenomenal wine new favorite red</td>\n",
       "      <td>bold flavorful aromatic delicious</td>\n",
       "    </tr>\n",
       "    <tr>\n",
       "      <th>4</th>\n",
       "      <td>5.0</td>\n",
       "      <td>ml bottle price two way le packaging yes pleas...</td>\n",
       "      <td>yum plus environmentally friendly</td>\n",
       "    </tr>\n",
       "    <tr>\n",
       "      <th>5</th>\n",
       "      <td>5.0</td>\n",
       "      <td>love beck na taste like regular ale smell like...</td>\n",
       "      <td>great taste</td>\n",
       "    </tr>\n",
       "    <tr>\n",
       "      <th>6</th>\n",
       "      <td>3.0</td>\n",
       "      <td>wine wonderful strong aroma bit bitter bite st...</td>\n",
       "      <td>simply wonderful</td>\n",
       "    </tr>\n",
       "    <tr>\n",
       "      <th>7</th>\n",
       "      <td>2.0</td>\n",
       "      <td>would give one star came clean bottle called s...</td>\n",
       "      <td>sweet red</td>\n",
       "    </tr>\n",
       "    <tr>\n",
       "      <th>8</th>\n",
       "      <td>5.0</td>\n",
       "      <td>delicious affordable</td>\n",
       "      <td></td>\n",
       "    </tr>\n",
       "    <tr>\n",
       "      <th>9</th>\n",
       "      <td>5.0</td>\n",
       "      <td>smooth red aroma cocoa coffee tobacco sweet bl...</td>\n",
       "      <td>charles charles red blend</td>\n",
       "    </tr>\n",
       "  </tbody>\n",
       "</table>\n",
       "</div>"
      ],
      "text/plain": [
       "   reviews.rating                                       reviews.text  \\\n",
       "0             5.0                      fantastic white wine occasion   \n",
       "1             5.0                tart sweetvery refreshing delicious   \n",
       "2             5.0  given wine delightful surprise find flavorful ...   \n",
       "3             5.0                   phenomenal wine new favorite red   \n",
       "4             5.0  ml bottle price two way le packaging yes pleas...   \n",
       "5             5.0  love beck na taste like regular ale smell like...   \n",
       "6             3.0  wine wonderful strong aroma bit bitter bite st...   \n",
       "7             2.0  would give one star came clean bottle called s...   \n",
       "8             5.0                               delicious affordable   \n",
       "9             5.0  smooth red aroma cocoa coffee tobacco sweet bl...   \n",
       "\n",
       "                       reviews.title  \n",
       "0                favorite white wine  \n",
       "1                                yum  \n",
       "2                       new favorite  \n",
       "3  bold flavorful aromatic delicious  \n",
       "4  yum plus environmentally friendly  \n",
       "5                        great taste  \n",
       "6                   simply wonderful  \n",
       "7                          sweet red  \n",
       "8                                     \n",
       "9          charles charles red blend  "
      ]
     },
     "execution_count": 10,
     "metadata": {},
     "output_type": "execute_result"
    }
   ],
   "source": [
    "import re\n",
    "from nltk.corpus import stopwords\n",
    "from nltk.tokenize import word_tokenize\n",
    "from nltk.stem import WordNetLemmatizer, PorterStemmer\n",
    "import nltk\n",
    "\n",
    "nltk.download('punkt')\n",
    "nltk.download('stopwords')\n",
    "nltk.download('wordnet')\n",
    "\n",
    "# 전처리 함수 정의\n",
    "def preprocess_text(text):\n",
    "    # 노이즈 제거\n",
    "    text = text.lower()                  # 소문자 변환\n",
    "    text = re.sub(r'\\d+', '', text)      # 숫자 제거\n",
    "    text = re.sub(r'\\s+', ' ', text)     # 추가 공백 제거\n",
    "    text = re.sub(r'[^\\w\\s]', '', text)  # 특수 문자 제거\n",
    "    # 토큰화\n",
    "    tokens = word_tokenize(text)\n",
    "    # 불용어 제거\n",
    "    tokens = [word for word in tokens if word not in stopwords.words(\"english\")]\n",
    "    # 표제어 추출\n",
    "    lemmatizer = WordNetLemmatizer()\n",
    "    tokens = [lemmatizer.lemmatize(word) for word in tokens]  \n",
    "    return ' '.join(tokens)\n",
    "\n",
    "# 텍스트 전처리\n",
    "df[\"reviews.text\"] = df[\"reviews.text\"].apply(preprocess_text)\n",
    "df[\"reviews.title\"] = df[\"reviews.title\"].apply(preprocess_text)\n",
    "\n",
    "df.head(10)"
   ]
  },
  {
   "cell_type": "markdown",
   "id": "901b007d-e067-4887-9470-3242918f6c77",
   "metadata": {},
   "source": [
    "## **4) 모델 구현**\n",
    "\n",
    "---\n",
    "\n",
    "수업 시간에 사용한 VADER 감정 추론 모델을 사용하여 해당 텍스트의 감정이 긍정적인지 부정적인지를 판단합니다.\n",
    "\n",
    "NLTK의 VADER를 통해 리뷰 제목과 리뷰 내용을 감성 분석하여 `text_vader_compound`와 `title_vader_compound`에 저장합니다.\n",
    "\n",
    "`text_vader_compound`와 `title_vader_compound`의 평균을 내서 `vader_compound`에 저장해 해당 리뷰의 최종 vader score를 계산합니다."
   ]
  },
  {
   "cell_type": "code",
   "execution_count": 11,
   "id": "efe1a45b-1075-4136-8de4-36cc0c74c496",
   "metadata": {
    "tags": []
   },
   "outputs": [
    {
     "name": "stderr",
     "output_type": "stream",
     "text": [
      "[nltk_data] Downloading package vader_lexicon to\n",
      "[nltk_data]     /home/students/cs/202120990/nltk_data...\n",
      "[nltk_data]   Package vader_lexicon is already up-to-date!\n"
     ]
    },
    {
     "data": {
      "text/html": [
       "<div>\n",
       "<style scoped>\n",
       "    .dataframe tbody tr th:only-of-type {\n",
       "        vertical-align: middle;\n",
       "    }\n",
       "\n",
       "    .dataframe tbody tr th {\n",
       "        vertical-align: top;\n",
       "    }\n",
       "\n",
       "    .dataframe thead th {\n",
       "        text-align: right;\n",
       "    }\n",
       "</style>\n",
       "<table border=\"1\" class=\"dataframe\">\n",
       "  <thead>\n",
       "    <tr style=\"text-align: right;\">\n",
       "      <th></th>\n",
       "      <th>reviews.rating</th>\n",
       "      <th>reviews.text</th>\n",
       "      <th>reviews.title</th>\n",
       "      <th>text_vader_compound</th>\n",
       "      <th>title_vader_compound</th>\n",
       "      <th>vader_compound</th>\n",
       "    </tr>\n",
       "  </thead>\n",
       "  <tbody>\n",
       "    <tr>\n",
       "      <th>0</th>\n",
       "      <td>5.0</td>\n",
       "      <td>fantastic white wine occasion</td>\n",
       "      <td>favorite white wine</td>\n",
       "      <td>0.5574</td>\n",
       "      <td>0.4588</td>\n",
       "      <td>0.50810</td>\n",
       "    </tr>\n",
       "    <tr>\n",
       "      <th>1</th>\n",
       "      <td>5.0</td>\n",
       "      <td>tart sweetvery refreshing delicious</td>\n",
       "      <td>yum</td>\n",
       "      <td>0.5719</td>\n",
       "      <td>0.0000</td>\n",
       "      <td>0.28595</td>\n",
       "    </tr>\n",
       "    <tr>\n",
       "      <th>2</th>\n",
       "      <td>5.0</td>\n",
       "      <td>given wine delightful surprise find flavorful ...</td>\n",
       "      <td>new favorite</td>\n",
       "      <td>0.9118</td>\n",
       "      <td>0.4588</td>\n",
       "      <td>0.68530</td>\n",
       "    </tr>\n",
       "    <tr>\n",
       "      <th>3</th>\n",
       "      <td>5.0</td>\n",
       "      <td>phenomenal wine new favorite red</td>\n",
       "      <td>bold flavorful aromatic delicious</td>\n",
       "      <td>0.4588</td>\n",
       "      <td>0.7430</td>\n",
       "      <td>0.60090</td>\n",
       "    </tr>\n",
       "    <tr>\n",
       "      <th>4</th>\n",
       "      <td>5.0</td>\n",
       "      <td>ml bottle price two way le packaging yes pleas...</td>\n",
       "      <td>yum plus environmentally friendly</td>\n",
       "      <td>0.6669</td>\n",
       "      <td>0.4939</td>\n",
       "      <td>0.58040</td>\n",
       "    </tr>\n",
       "    <tr>\n",
       "      <th>5</th>\n",
       "      <td>5.0</td>\n",
       "      <td>love beck na taste like regular ale smell like...</td>\n",
       "      <td>great taste</td>\n",
       "      <td>0.9771</td>\n",
       "      <td>0.6249</td>\n",
       "      <td>0.80100</td>\n",
       "    </tr>\n",
       "    <tr>\n",
       "      <th>6</th>\n",
       "      <td>3.0</td>\n",
       "      <td>wine wonderful strong aroma bit bitter bite st...</td>\n",
       "      <td>simply wonderful</td>\n",
       "      <td>0.7269</td>\n",
       "      <td>0.5719</td>\n",
       "      <td>0.64940</td>\n",
       "    </tr>\n",
       "    <tr>\n",
       "      <th>7</th>\n",
       "      <td>2.0</td>\n",
       "      <td>would give one star came clean bottle called s...</td>\n",
       "      <td>sweet red</td>\n",
       "      <td>0.6908</td>\n",
       "      <td>0.4588</td>\n",
       "      <td>0.57480</td>\n",
       "    </tr>\n",
       "    <tr>\n",
       "      <th>8</th>\n",
       "      <td>5.0</td>\n",
       "      <td>delicious affordable</td>\n",
       "      <td></td>\n",
       "      <td>0.5719</td>\n",
       "      <td>0.0000</td>\n",
       "      <td>0.28595</td>\n",
       "    </tr>\n",
       "    <tr>\n",
       "      <th>9</th>\n",
       "      <td>5.0</td>\n",
       "      <td>smooth red aroma cocoa coffee tobacco sweet bl...</td>\n",
       "      <td>charles charles red blend</td>\n",
       "      <td>0.8122</td>\n",
       "      <td>0.0000</td>\n",
       "      <td>0.40610</td>\n",
       "    </tr>\n",
       "  </tbody>\n",
       "</table>\n",
       "</div>"
      ],
      "text/plain": [
       "   reviews.rating                                       reviews.text  \\\n",
       "0             5.0                      fantastic white wine occasion   \n",
       "1             5.0                tart sweetvery refreshing delicious   \n",
       "2             5.0  given wine delightful surprise find flavorful ...   \n",
       "3             5.0                   phenomenal wine new favorite red   \n",
       "4             5.0  ml bottle price two way le packaging yes pleas...   \n",
       "5             5.0  love beck na taste like regular ale smell like...   \n",
       "6             3.0  wine wonderful strong aroma bit bitter bite st...   \n",
       "7             2.0  would give one star came clean bottle called s...   \n",
       "8             5.0                               delicious affordable   \n",
       "9             5.0  smooth red aroma cocoa coffee tobacco sweet bl...   \n",
       "\n",
       "                       reviews.title  text_vader_compound  \\\n",
       "0                favorite white wine               0.5574   \n",
       "1                                yum               0.5719   \n",
       "2                       new favorite               0.9118   \n",
       "3  bold flavorful aromatic delicious               0.4588   \n",
       "4  yum plus environmentally friendly               0.6669   \n",
       "5                        great taste               0.9771   \n",
       "6                   simply wonderful               0.7269   \n",
       "7                          sweet red               0.6908   \n",
       "8                                                  0.5719   \n",
       "9          charles charles red blend               0.8122   \n",
       "\n",
       "   title_vader_compound  vader_compound  \n",
       "0                0.4588         0.50810  \n",
       "1                0.0000         0.28595  \n",
       "2                0.4588         0.68530  \n",
       "3                0.7430         0.60090  \n",
       "4                0.4939         0.58040  \n",
       "5                0.6249         0.80100  \n",
       "6                0.5719         0.64940  \n",
       "7                0.4588         0.57480  \n",
       "8                0.0000         0.28595  \n",
       "9                0.0000         0.40610  "
      ]
     },
     "execution_count": 11,
     "metadata": {},
     "output_type": "execute_result"
    }
   ],
   "source": [
    "from nltk.sentiment.vader import SentimentIntensityAnalyzer\n",
    "\n",
    "# NLTK 패키지 다운로드\n",
    "nltk.download(\"vader_lexicon\")\n",
    "\n",
    "# VADER 초기화\n",
    "vader_sentiment = SentimentIntensityAnalyzer()\n",
    "\n",
    "# VADER를 사용하여 감성 점수 계산\n",
    "df[\"text_vader_scores\"] = df[\"reviews.text\"].apply(lambda review: vader_sentiment.polarity_scores(review))\n",
    "df[\"title_vader_scores\"] = df[\"reviews.title\"].apply(lambda review: vader_sentiment.polarity_scores(review))\n",
    "\n",
    "# compound 점수만 추출하여 별도의 컬럼에 저장\n",
    "df[\"text_vader_compound\"] = df[\"text_vader_scores\"].apply(lambda score_dict: score_dict[\"compound\"])\n",
    "df[\"title_vader_compound\"] = df[\"title_vader_scores\"].apply(lambda score_dict: score_dict[\"compound\"])\n",
    "df[\"vader_compound\"] = (df[\"text_vader_compound\"] + df[\"title_vader_compound\"])/2\n",
    "\n",
    "df[[\"reviews.rating\", \"reviews.text\", \"reviews.title\", \"text_vader_compound\", \"title_vader_compound\", \"vader_compound\"]].head(10)"
   ]
  },
  {
   "cell_type": "markdown",
   "id": "f2d6366b-54b3-4844-9744-def896b9647e",
   "metadata": {},
   "source": [
    "`vader_compound`의 값이 0.05 이상인지 아닌지를 기준으로, 이상이면 1(긍정), 아니라면 0(부정)으로 분류해 라벨을 붙여줍니다."
   ]
  },
  {
   "cell_type": "code",
   "execution_count": 12,
   "id": "b4768ab3-0c7c-4b85-9b1a-4c3a2b541558",
   "metadata": {
    "tags": []
   },
   "outputs": [
    {
     "data": {
      "text/html": [
       "<div>\n",
       "<style scoped>\n",
       "    .dataframe tbody tr th:only-of-type {\n",
       "        vertical-align: middle;\n",
       "    }\n",
       "\n",
       "    .dataframe tbody tr th {\n",
       "        vertical-align: top;\n",
       "    }\n",
       "\n",
       "    .dataframe thead th {\n",
       "        text-align: right;\n",
       "    }\n",
       "</style>\n",
       "<table border=\"1\" class=\"dataframe\">\n",
       "  <thead>\n",
       "    <tr style=\"text-align: right;\">\n",
       "      <th></th>\n",
       "      <th>reviews.rating</th>\n",
       "      <th>reviews.text</th>\n",
       "      <th>reviews.title</th>\n",
       "      <th>vader_compound</th>\n",
       "      <th>label</th>\n",
       "    </tr>\n",
       "  </thead>\n",
       "  <tbody>\n",
       "    <tr>\n",
       "      <th>0</th>\n",
       "      <td>5.0</td>\n",
       "      <td>fantastic white wine occasion</td>\n",
       "      <td>favorite white wine</td>\n",
       "      <td>0.50810</td>\n",
       "      <td>1</td>\n",
       "    </tr>\n",
       "    <tr>\n",
       "      <th>1</th>\n",
       "      <td>5.0</td>\n",
       "      <td>tart sweetvery refreshing delicious</td>\n",
       "      <td>yum</td>\n",
       "      <td>0.28595</td>\n",
       "      <td>1</td>\n",
       "    </tr>\n",
       "    <tr>\n",
       "      <th>2</th>\n",
       "      <td>5.0</td>\n",
       "      <td>given wine delightful surprise find flavorful ...</td>\n",
       "      <td>new favorite</td>\n",
       "      <td>0.68530</td>\n",
       "      <td>1</td>\n",
       "    </tr>\n",
       "    <tr>\n",
       "      <th>3</th>\n",
       "      <td>5.0</td>\n",
       "      <td>phenomenal wine new favorite red</td>\n",
       "      <td>bold flavorful aromatic delicious</td>\n",
       "      <td>0.60090</td>\n",
       "      <td>1</td>\n",
       "    </tr>\n",
       "    <tr>\n",
       "      <th>4</th>\n",
       "      <td>5.0</td>\n",
       "      <td>ml bottle price two way le packaging yes pleas...</td>\n",
       "      <td>yum plus environmentally friendly</td>\n",
       "      <td>0.58040</td>\n",
       "      <td>1</td>\n",
       "    </tr>\n",
       "    <tr>\n",
       "      <th>5</th>\n",
       "      <td>5.0</td>\n",
       "      <td>love beck na taste like regular ale smell like...</td>\n",
       "      <td>great taste</td>\n",
       "      <td>0.80100</td>\n",
       "      <td>1</td>\n",
       "    </tr>\n",
       "    <tr>\n",
       "      <th>6</th>\n",
       "      <td>3.0</td>\n",
       "      <td>wine wonderful strong aroma bit bitter bite st...</td>\n",
       "      <td>simply wonderful</td>\n",
       "      <td>0.64940</td>\n",
       "      <td>1</td>\n",
       "    </tr>\n",
       "    <tr>\n",
       "      <th>7</th>\n",
       "      <td>2.0</td>\n",
       "      <td>would give one star came clean bottle called s...</td>\n",
       "      <td>sweet red</td>\n",
       "      <td>0.57480</td>\n",
       "      <td>1</td>\n",
       "    </tr>\n",
       "    <tr>\n",
       "      <th>8</th>\n",
       "      <td>5.0</td>\n",
       "      <td>delicious affordable</td>\n",
       "      <td></td>\n",
       "      <td>0.28595</td>\n",
       "      <td>1</td>\n",
       "    </tr>\n",
       "    <tr>\n",
       "      <th>9</th>\n",
       "      <td>5.0</td>\n",
       "      <td>smooth red aroma cocoa coffee tobacco sweet bl...</td>\n",
       "      <td>charles charles red blend</td>\n",
       "      <td>0.40610</td>\n",
       "      <td>1</td>\n",
       "    </tr>\n",
       "  </tbody>\n",
       "</table>\n",
       "</div>"
      ],
      "text/plain": [
       "   reviews.rating                                       reviews.text  \\\n",
       "0             5.0                      fantastic white wine occasion   \n",
       "1             5.0                tart sweetvery refreshing delicious   \n",
       "2             5.0  given wine delightful surprise find flavorful ...   \n",
       "3             5.0                   phenomenal wine new favorite red   \n",
       "4             5.0  ml bottle price two way le packaging yes pleas...   \n",
       "5             5.0  love beck na taste like regular ale smell like...   \n",
       "6             3.0  wine wonderful strong aroma bit bitter bite st...   \n",
       "7             2.0  would give one star came clean bottle called s...   \n",
       "8             5.0                               delicious affordable   \n",
       "9             5.0  smooth red aroma cocoa coffee tobacco sweet bl...   \n",
       "\n",
       "                       reviews.title  vader_compound  label  \n",
       "0                favorite white wine         0.50810      1  \n",
       "1                                yum         0.28595      1  \n",
       "2                       new favorite         0.68530      1  \n",
       "3  bold flavorful aromatic delicious         0.60090      1  \n",
       "4  yum plus environmentally friendly         0.58040      1  \n",
       "5                        great taste         0.80100      1  \n",
       "6                   simply wonderful         0.64940      1  \n",
       "7                          sweet red         0.57480      1  \n",
       "8                                            0.28595      1  \n",
       "9          charles charles red blend         0.40610      1  "
      ]
     },
     "execution_count": 12,
     "metadata": {},
     "output_type": "execute_result"
    }
   ],
   "source": [
    "# VADER의 compound 점수를 기준으로 감성 라벨 생성\n",
    "def vader_sentiment_label(score):\n",
    "    if score >= 0.05:\n",
    "        return 1\n",
    "    else:\n",
    "        return 0\n",
    "\n",
    "df[\"label\"] = df[\"vader_compound\"].apply(vader_sentiment_label)\n",
    "\n",
    "df[[\"reviews.rating\", \"reviews.text\", \"reviews.title\", \"vader_compound\", \"label\"]].head(10)"
   ]
  },
  {
   "cell_type": "markdown",
   "id": "9a7fd584-2acb-477f-a714-ad4b1b5dac83",
   "metadata": {},
   "source": [
    "7번 행을 보면 rating이 2.0인데 감성 분석 결과는 긍정으로 나온 것을 볼 수 있습니다. 위와 같이 별점과 VADER 감성 추론 모델의 결과가 다르게 나올 수 있습니다. \n",
    "\n",
    "두 결과가 다른 데이터가 몇 개 있는지 확인해봅니다."
   ]
  },
  {
   "cell_type": "code",
   "execution_count": 13,
   "id": "4e8526b0-030a-405f-b579-fdf69e777b06",
   "metadata": {
    "tags": []
   },
   "outputs": [
    {
     "name": "stdout",
     "output_type": "stream",
     "text": [
      "** 별점이 3점 이상이면 긍정적인 리뷰라고 가정\n",
      "\n",
      "별점과 감성 분석 결과가 동일함: 1995\n",
      "별점과 감성 분석 결과가 다름  : 555\n"
     ]
    }
   ],
   "source": [
    "# 라벨과 별점이 서로 매칭되는지 확인\n",
    "def is_match(df):\n",
    "    if (df[\"label\"] and df[\"reviews.rating\"] >= 3) or (not df[\"label\"] and df[\"reviews.rating\"] < 3):\n",
    "        return True\n",
    "    else:\n",
    "        return False\n",
    "\n",
    "df[\"match\"] = df.apply(is_match, axis=1)\n",
    "\n",
    "print(\"** 별점이 3점 이상이면 긍정적인 리뷰라고 가정\\n\")\n",
    "print(f\"별점과 감성 분석 결과가 동일함: {df[df['match'] == True].shape[0]}\") \n",
    "print(f\"별점과 감성 분석 결과가 다름  : {df[df['match'] == False].shape[0]}\")"
   ]
  },
  {
   "cell_type": "markdown",
   "id": "91bb917a-f4dc-407f-892d-928beeda57d8",
   "metadata": {},
   "source": [
    "결과가 동일한 데이터는 총 1995개로, 약 80%의 정확성을 띄는 것을 알 수 있습니다. 어느정도 감정 분석 결과가 별점과 잘 맞다고 볼 수 있습니다.\n",
    "\n",
    "감성 추론 모델이 분류한 긍정 리뷰와 부정 리뷰의 별점 분포를 그래프를 통해 확인해보겠습니다."
   ]
  },
  {
   "cell_type": "code",
   "execution_count": 14,
   "id": "7f89078b-583c-4721-a9b0-25f428bdad3e",
   "metadata": {
    "tags": []
   },
   "outputs": [
    {
     "data": {
      "image/png": "[encoded data removed]",
      "text/plain": [
       "<Figure size 1200x600 with 1 Axes>"
      ]
     },
     "metadata": {},
     "output_type": "display_data"
    }
   ],
   "source": [
    "# 긍정, 부정 라벨 데이터 분리\n",
    "positive_ratings = df[df['label'] == 1]['reviews.rating']\n",
    "negative_ratings = df[df['label'] == 0]['reviews.rating']\n",
    "\n",
    "# 히스토그램 설정\n",
    "plt.figure(figsize=(12, 6))\n",
    "\n",
    "plt.hist([positive_ratings, negative_ratings], bins=range(1, 7), label=[\"Positive\", \"Negative\"], color=['blue', 'red'],alpha=0.5, edgecolor='black', align='left')\n",
    "plt.legend(loc=\"upper left\")\n",
    "plt.grid(axis='y')\n",
    "\n",
    "plt.show()"
   ]
  },
  {
   "cell_type": "markdown",
   "id": "82f9aa54-50ce-4dc3-8bb2-671fdbe411cf",
   "metadata": {},
   "source": [
    "긍정 리뷰와 부정 리뷰의 별점 분포를 보면 다음과 같습니다. 별점 3 ~ 5점만 놓고 보았을 때는 대다수의 데이터를 올바르게 처리하였다고 해석할 수 있지만, 별점 1 ~ 2점 리뷰에 대해서는 그렇지 못하다고 볼 수 있습니다.\n",
    "\n",
    "이제, 위 데이터를 사용하여 로지스틱 회귀 분석을 진행합니다."
   ]
  },
  {
   "cell_type": "markdown",
   "id": "c434e81e-6e2b-49e2-a791-0a69fbe19155",
   "metadata": {},
   "source": [
    "## **5) 데이터셋 분할**\n",
    "\n",
    "---\n",
    "\n",
    "데이터셋을 분할하기에 앞서, 먼저 학습에 사용될 데이터셋을 벡터화합니다.\n",
    "\n",
    "`reviews.title`과 `reviews.text` 칼럼을 하나의 칼럼으로 합친 다음, TF-IDF 벡터화를 진행합니다."
   ]
  },
  {
   "cell_type": "code",
   "execution_count": 15,
   "id": "6e54ac81-f651-4608-8ae9-c31dfbaf9ceb",
   "metadata": {
    "tags": []
   },
   "outputs": [],
   "source": [
    "from sklearn.feature_extraction.text import TfidfVectorizer\n",
    "from sklearn.model_selection import train_test_split\n",
    "\n",
    "y = df[\"label\"]\n",
    "\n",
    "# 제목과 리뷰 내용 텍스트를 하나로 합쳐줍니다.\n",
    "df[\"text\"] = df[\"reviews.title\"] + \" \" + df[\"reviews.text\"]\n",
    "\n",
    "# TF-IDF\n",
    "vectorizer = TfidfVectorizer(max_features=1000)\n",
    "X = vectorizer.fit_transform(df[\"text\"])"
   ]
  },
  {
   "cell_type": "markdown",
   "id": "2283203b-4203-443d-906b-70cef4fd6a78",
   "metadata": {},
   "source": [
    "이제, 로지스틱 회귀 모델 학습 및 평가에 사용될 데이터셋을 분할합니다.\n",
    "\n",
    "학습 데이터셋과 평가 데이터셋은 8:2 비율로 분할합니다."
   ]
  },
  {
   "cell_type": "code",
   "execution_count": 16,
   "id": "64e55a2c-9bd0-4399-80c5-fa9b346c387f",
   "metadata": {
    "tags": []
   },
   "outputs": [],
   "source": [
    "X_train, X_test, y_train, y_test = train_test_split(X, y, test_size=0.2, random_state=123)"
   ]
  },
  {
   "cell_type": "markdown",
   "id": "cdeb4a17-8d26-47d1-832d-3345e79829f6",
   "metadata": {},
   "source": [
    "## **6) 모델 학습 및 튜닝**\n",
    "\n",
    "---\n",
    "\n",
    "모델은 로지스틱 회귀 모델을 사용합니다.\n",
    "\n",
    "하이퍼파라미터 튜닝 기법으로는 그리드 서치를 사용합니다. `C`와 `max_iter`에 대한 하이퍼파라미터 튜닝을 진행합니다.\n",
    "교차 검증을 위한 fold 횟수는 5회로 지정하였습니다."
   ]
  },
  {
   "cell_type": "code",
   "execution_count": 17,
   "id": "a96b02f5-9291-4367-bf84-7e5736895beb",
   "metadata": {
    "tags": []
   },
   "outputs": [
    {
     "name": "stdout",
     "output_type": "stream",
     "text": [
      "Best parameters: {'C': 10, 'max_iter': 100}\n",
      "Test accuracy: 0.8862745098039215\n"
     ]
    }
   ],
   "source": [
    "from sklearn.linear_model import LogisticRegression\n",
    "from sklearn.model_selection import GridSearchCV\n",
    "\n",
    "model = LogisticRegression()\n",
    "\n",
    "param_grid = {\n",
    "    \"C\": [0.001, 0.01, 0.1, 1, 10, 100],\n",
    "    \"max_iter\": [100, 1000]\n",
    "}\n",
    "\n",
    "grid_search = GridSearchCV(model, param_grid, cv=5, scoring=\"accuracy\")\n",
    "grid_search.fit(X_train, y_train)\n",
    "\n",
    "print(\"Best parameters:\", grid_search.best_params_)\n",
    "print(\"Test accuracy:\", grid_search.score(X_test, y_test))"
   ]
  },
  {
   "cell_type": "markdown",
   "id": "6dc229ab-49b2-4b5a-b7b5-31ba80193168",
   "metadata": {},
   "source": [
    "`C`의 값이 10일 때, `max_iter` 값이 100일 때가 최적의 하이퍼파라미터 값임을 알 수 있습니다.\n",
    "\n",
    "이제 그리드 서치를 통해 알아낸 최적의 하이퍼파라미터 값으로 모델 학습을 진행합니다."
   ]
  },
  {
   "cell_type": "code",
   "execution_count": 18,
   "id": "35de1a90-8ac8-4acf-821b-0e575f54fad7",
   "metadata": {
    "tags": []
   },
   "outputs": [],
   "source": [
    "# 최적의 모델을 사용 데이터 학습 진행\n",
    "model = grid_search.best_estimator_\n",
    "model.fit(X_train, y_train)\n",
    "yt_pred = model.predict(X_train)\n",
    "y_pred = model.predict(X_test)"
   ]
  },
  {
   "cell_type": "markdown",
   "id": "c6be2272-1788-4b08-afa9-d4daad2bc05d",
   "metadata": {},
   "source": [
    "## **7) 모델 평가**\n",
    "\n",
    "---\n",
    "\n",
    "최적의 하이퍼파라미터 값으로 학습한 모델에 대해 평가를 진행합니다.\n",
    "\n",
    "평가 지표로는 정확도(accuracy), 정밀도(precision), 재현률(recall), F1 점수 및 ROC-AUC를 사용합니다."
   ]
  },
  {
   "cell_type": "code",
   "execution_count": 19,
   "id": "f4fed6cd-0990-4895-ba82-b79f8e4a0fea",
   "metadata": {
    "tags": []
   },
   "outputs": [
    {
     "name": "stdout",
     "output_type": "stream",
     "text": [
      "정확도  | Train: 0.977941  Test: 0.886275\n",
      "정밀도  | Train: 0.978218  Test: 0.871527\n",
      "재현율  | Train: 0.977941  Test: 0.886275\n",
      "F1-score| Train: 0.977072  Test: 0.866453\n",
      "ROC-AUC | Train: 0.912748  Test: 0.644679\n",
      "\n",
      "================== Classification Report (Train) ==================\n",
      "              precision    recall  f1-score   support\n",
      "\n",
      "           0       0.99      0.83      0.90       248\n",
      "           1       0.98      1.00      0.99      1792\n",
      "\n",
      "    accuracy                           0.98      2040\n",
      "   macro avg       0.98      0.91      0.94      2040\n",
      "weighted avg       0.98      0.98      0.98      2040\n",
      "\n",
      "\n",
      "================== Classification Report ( Test) ==================\n",
      "              precision    recall  f1-score   support\n",
      "\n",
      "           0       0.71      0.31      0.43        71\n",
      "           1       0.90      0.98      0.94       439\n",
      "\n",
      "    accuracy                           0.89       510\n",
      "   macro avg       0.80      0.64      0.68       510\n",
      "weighted avg       0.87      0.89      0.87       510\n",
      "\n"
     ]
    }
   ],
   "source": [
    "from sklearn.metrics import accuracy_score, precision_score, recall_score, f1_score, roc_auc_score, roc_curve, auc\n",
    "from sklearn.metrics import confusion_matrix, classification_report,ConfusionMatrixDisplay\n",
    "\n",
    "# 정확도 평가\n",
    "print(f\"정확도  | Train: {accuracy_score(y_train, yt_pred):.6f}  Test: {accuracy_score(y_test, y_pred):.6f}\")\n",
    "\n",
    "# 정밀도 평가\n",
    "print(f\"정밀도  | Train: {precision_score(y_train, yt_pred, average='weighted'):.6f}  Test: {precision_score(y_test, y_pred, average='weighted'):.6f}\")\n",
    "\n",
    "# 재현율 평가\n",
    "print(f\"재현율  | Train: {recall_score(y_train, yt_pred, average='weighted'):.6f}  Test: {recall_score(y_test, y_pred, average='weighted'):.6f}\")\n",
    "\n",
    "# F1 점수 평가\n",
    "print(f\"F1-score| Train: {f1_score(y_train, yt_pred, average='weighted'):.6f}  Test: {f1_score(y_test, y_pred, average='weighted'):.6f}\")\n",
    "\n",
    "# ROC-AUC 점수 계산\n",
    "print(f\"ROC-AUC | Train: {roc_auc_score(y_train, yt_pred):.6f}  Test: {roc_auc_score(y_test, y_pred):.6f}\")\n",
    "\n",
    "# Classification report\n",
    "print(f\"\\n{'='*18} Classification Report (Train) {'='*18}\")\n",
    "print(classification_report(y_train, yt_pred))\n",
    "\n",
    "print(f\"\\n{'='*18} Classification Report ( Test) {'='*18}\")\n",
    "print(classification_report(y_test, y_pred))"
   ]
  },
  {
   "cell_type": "markdown",
   "id": "c4878d1d-252e-4caa-8717-0b814ebce844",
   "metadata": {},
   "source": [
    "모델 평가 결과는 위와 같습니다. 테스트 데이터에 대한 지표를 해석합니다.\n",
    "\n",
    "1. 정확도(Accuracy): 0.886275\n",
    "    - 전체 예측 중에서 올바르게 예측한 비율입니다.\n",
    "2. 정밀도(Precision): 0.871527\n",
    "    - 양성으로 예측한 것 중 실제 양성인 비율입니다.\n",
    "3. 재현율(Recall): 0.886275\n",
    "    - 실제 양성 중에서 양성으로 예측한 비율입니다.\n",
    "4. F1-score: 0.866453\n",
    "    - 정밀도와 재현율의 조화 평균입니다.\n",
    "5. ROC-AUC: 0.644679\n",
    "    - ROC 곡선 아래 면적으로, 클래스 구분의 성능을 평가합니다. 1에 가까울수록 완벽한 구분을 의미합니다.\n",
    "    \n",
    "\n",
    "학습 데이터와 테스트 데이터를 비교하여 보았을 때, 학습 데이터에서는 모든 지표에서 매우 높은 값을 보이고 있습니다. \n",
    "반면, 테스트 데이터에서는 성능이 상대적으로 낮아졌음을 알 수 있습니다. 특히, ROC-AUC 값은 상당히 큰 차이를 보이고 있습니다(Train: 0.91, Test: 0.64).\n",
    "\n",
    "Classification Report를 보면, 학습 데이터와 다르게 테스트 데이터에서 부정 리뷰(클래스 0)에 대한 모델 성능이 특히 낮다는 것을 알 수 있습니다. 이는 모델이 학습 데이터에 오버피팅 되었을 가능성이 큽니다. 학습 데이터에서의 평가 지표는 모두 좋게 나왔기 때문에 언더피팅의 문제는 아니라고 볼 수 있습니다.\n",
    "\n",
    "오버피팅의 경우 부정 리뷰(클래스 0)에 대한 데이터 비율이 적어서, 즉 데이터 불균형 문제로 인해 성능이 낮게 나왔음을 추측할 수 있습니다. 이는 부정 리뷰에 대한 데이터 비율을 늘리는 방식을 통해 해결해 볼 수 있습니다."
   ]
  },
  {
   "cell_type": "markdown",
   "id": "1741d9b4-a41d-4510-a793-5bc097c64f1e",
   "metadata": {},
   "source": [
    "## **8) 결과 시각화**\n",
    "\n",
    "---\n",
    "\n",
    "혼동 행렬과 ROC 곡선에 대해 시각화를 진행합니다."
   ]
  },
  {
   "cell_type": "code",
   "execution_count": 20,
   "id": "1d8fc751-a975-4446-b3ce-9060fdd33769",
   "metadata": {
    "tags": []
   },
   "outputs": [
    {
     "data": {
      "image/png": "[encoded data removed]",
      "text/plain": [
       "<Figure size 640x480 with 2 Axes>"
      ]
     },
     "metadata": {},
     "output_type": "display_data"
    }
   ],
   "source": [
    "cm = confusion_matrix(y_test, y_pred, labels=[0,1])\n",
    "display = ConfusionMatrixDisplay(confusion_matrix=cm, display_labels=[0,1])\n",
    "display.plot()\n",
    "plt.title(\"Confusion Matrix\")\n",
    "plt.show()"
   ]
  },
  {
   "cell_type": "markdown",
   "id": "1777f230-975e-4fe0-b9c6-a6f293cb8282",
   "metadata": {},
   "source": [
    "혼동 행렬을 확인해보면 긍정 리뷰(클래스 1)에 대해서는 430:9로 분류가 잘 된 것을 확인할 수 있고, 부정 리뷰(클래스 0)에 대해서는 22:49로 아쉬운 성능을 보여주고 있습니다."
   ]
  },
  {
   "cell_type": "code",
   "execution_count": 21,
   "id": "b91bdaa4-bbc6-4805-a937-86a4889d5b17",
   "metadata": {
    "tags": []
   },
   "outputs": [
    {
     "data": {
      "image/png": "[encoded data removed]",
      "text/plain": [
       "<Figure size 800x600 with 1 Axes>"
      ]
     },
     "metadata": {},
     "output_type": "display_data"
    }
   ],
   "source": [
    "# ROC 곡선 계산\n",
    "fpr, tpr, thresholds = roc_curve(y_test, y_pred)\n",
    "# ROC 곡선 아래 면적 계산\n",
    "roc_auc = auc(fpr, tpr)\n",
    "\n",
    "plt.figure(figsize=(8, 6))\n",
    "plt.plot(fpr, tpr, color=\"orange\", label=f\"ROC curve (area: {roc_auc:.2f})\")\n",
    "plt.plot([0, 1], [0, 1], color=\"blue\", linestyle=\"--\") \n",
    "plt.xlabel(\"FP Rate\")\n",
    "plt.ylabel(\"TP Rate\")\n",
    "plt.title('ROC Curve', fontsize=15)\n",
    "plt.legend(loc='lower right')\n",
    "plt.show()"
   ]
  },
  {
   "cell_type": "markdown",
   "id": "bb10bef8-3ee4-43a5-a570-197976e6ea66",
   "metadata": {},
   "source": [
    "곡선 아래 면적(AUC) 값은 0.5에서 1 사이의 값을 가집니다. AUC 값이 0.5에 가까울수록 모델의 분류 성능이 낮고, 1에 가까울수록 분류 성능이 높습니다. \n",
    "\n",
    "위 모델의 경우 AUC 값이 0.64로 모델의 성능이 낮음을 확인할 수 있습니다. 반면 학습 데이터의 AUC 값은 0.91로 높았던 것을 생각해보면 오버피팅 문제가 발생하였을 가능성이 높음을 암시합니다.\n",
    "\n",
    "AUC 값을 높이기 위해서는 오버피팅 문제를 해결할 필요성이 있습니다."
   ]
  },
  {
   "cell_type": "markdown",
   "id": "c42c3062-37b5-4bdb-ac3b-56c1cf2fb7d6",
   "metadata": {},
   "source": [
    "## **9) 마무리**\n",
    "\n",
    "---\n",
    "\n",
    "와인 리뷰 데이터를 활용하여 감성 분석을 진행하였습니다. 이 과정에서 노이즈 제거, 불용어 제거와 같은 텍스트 전처리 작업을 진행하였고, NLTK의 VADER 감성 추론 모델을 활용하여 리뷰의 감성 분석을 진행하였습니다.\n",
    "로지스틱 회귀 모델을 사용하여 모델 학습을 진행하였고, 그리드 서치 알고리즘을 사용하여 모델의 하이퍼파라미터를 조정하였습니다.\n",
    "\n",
    "학습된 모델을 평가해보았을 때, 학습 데이터의 평가 지표와 테스트 데이터의 평가 지표가 꽤 차이가 나는 것을 확인할 수 있었고, 특히 부정 리뷰에 대한 감성 분류가 테스트 데이터에서 잘 이루어지지 못한 것을 확인할 수 있었습니다.\n",
    "\n",
    "이는 모델 학습에 사용한 데이터셋이 부정 리뷰에 대한 데이터가 부족했던 원인(데이터 불균형)이 크다고 생각됩니다.\n",
    "\n",
    "이 문제는 더 많은 리뷰 데이터를 골고루 수집하여 모델의 성능을 강화해 볼 수 있고, 부정 리뷰의 데이터 비율을 늘리거나 긍정 리뷰의 비율을 줄이는 방법으로 해결해 볼 수 있다고 생각합니다.\n",
    "\n",
    "또한 모델의 경우에도 로지스틱 회귀 모델이 아닌 소프트 벡터 머신(SVM)이나 랜덤 포레스트와 같은 다양한 분류 모델을 사용하여 감성 분석 모델의 성능을 높여볼 수 있을 것으로 보입니다."
   ]
  },
  {
   "cell_type": "code",
   "execution_count": null,
   "id": "b8b88fa0-d7b6-46ae-974c-e9b13fecea20",
   "metadata": {},
   "outputs": [],
   "source": []
  }
 ],
 "metadata": {
  "kernelspec": {
   "display_name": "ML",
   "language": "python",
   "name": "ml"
  },
  "language_info": {
   "codemirror_mode": {
    "name": "ipython",
    "version": 3
   },
   "file_extension": ".py",
   "mimetype": "text/x-python",
   "name": "python",
   "nbconvert_exporter": "python",
   "pygments_lexer": "ipython3",
   "version": "3.11.5"
  }
 },
 "nbformat": 4,
 "nbformat_minor": 5
}
